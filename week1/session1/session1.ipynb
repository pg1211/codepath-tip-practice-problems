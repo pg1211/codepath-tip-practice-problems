{
 "cells": [
  {
   "cell_type": "markdown",
   "id": "bfa2c571",
   "metadata": {},
   "source": [
    "Write a function `linear_search()` to help Winnie the Pooh locate his lost items. The function accepts a list `items` and a `target` value as parameters. The function should return the first index of `target` in `items`, and `-1` if `target` is not in the `lst`. Do not use any built-in functions."
   ]
  },
  {
   "cell_type": "code",
   "execution_count": null,
   "id": "591adba9",
   "metadata": {},
   "outputs": [
    {
     "ename": "",
     "evalue": "",
     "output_type": "error",
     "traceback": [
      "\u001b[1;31mRunning cells with 'Python 3.10.17' requires the ipykernel package.\n",
      "\u001b[1;31m<a href='command:jupyter.createPythonEnvAndSelectController'>Create a Python Environment</a> with the required packages.\n",
      "\u001b[1;31mOr install 'ipykernel' using the command: '/opt/homebrew/bin/python3.10 -m pip install ipykernel -U --user --force-reinstall'"
     ]
    }
   ],
   "source": [
    "def linear_search(lst, target):\n",
    "    for i in range(len(lst)):\n",
    "        if lst[i] == target:\n",
    "            return i\n",
    "    return -1\n",
    "\n",
    "# example usage\n",
    "items = ['haycorn', 'haycorn', 'haycorn', 'hunny', 'haycorn']\n",
    "target = 'hunny'\n",
    "linear_search(items, target)\n",
    "\n",
    "items = ['bed', 'blue jacket', 'red shirt', 'hunny']\n",
    "target = 'red balloon'\n",
    "linear_search(items, target)"
   ]
  },
  {
   "cell_type": "markdown",
   "id": "a6974b77",
   "metadata": {},
   "source": [
    "Problem 2: Bouncy, Flouncy, Trouncy, Pouncy\n",
    "Tigger has developed a new programming language Tiger with only four operations and one variable tigger.\n",
    "\n",
    "bouncy and flouncy both increment the value of the variable tigger by 1.\n",
    "trouncy and pouncy both decrement the value of the variable tigger by 1.\n",
    "Initially, the value of tigger is 1 because he's the only tigger around! Given a list of strings operations containing a list of operations, return the final value of tigger after performing all the operations."
   ]
  },
  {
   "cell_type": "code",
   "execution_count": null,
   "id": "bc8aac9a",
   "metadata": {},
   "outputs": [],
   "source": [
    "def final_value_after_operations(operations):\n",
    "\ttigger = 1\n",
    "    for op in operations:\n",
    "        if op == \"bouncy\" or op == \"flouncy\":\n",
    "            tigger += 1\n",
    "        if op == \"trouncy\" or op == \"pouncy\":\n",
    "            tigger -= 1\n",
    "\n",
    "    return tigger\n",
    "\n",
    "\n",
    "# example usage\n",
    "operations = [\"trouncy\", \"flouncy\", \"flouncy\"]\n",
    "final_value_after_operations(operations)\n",
    "\n",
    "operations = [\"bouncy\", \"bouncy\", \"flouncy\"]\n",
    "final_value_after_operations(operations)"
   ]
  },
  {
   "cell_type": "markdown",
   "id": "d8f4f05f",
   "metadata": {},
   "source": [
    "Problem 3:\n",
    "\n"
   ]
  },
  {
   "cell_type": "code",
   "execution_count": null,
   "id": "380afd38",
   "metadata": {},
   "outputs": [],
   "source": [
    "# we want to remove t, i, gg, er\n",
    "def tiggerfy(word):\n",
    "    lower_word = word.lower()\n",
    "\n",
    "    lower_word.replace(\"t\", \"\")\n",
    "    lower_word.replace(\"i\", \"\")\n",
    "    lower_word.replace(\"gg\", \"\")\n",
    "    lower_word.replace(\"er\", \"\")\n",
    "\n",
    "    if lower_word == word:\n",
    "        return lower_word\n",
    "\n",
    "    return word\n",
    "\n",
    "\n",
    "print(tiggerfy(\"Eggplant\"))\n",
    "\n",
    "\n",
    "def tiggerfy_split(word):\n",
    "    # set new_word to have contents of word\n",
    "    new_word = word\n",
    "\n",
    "    # loop through things that we want to remove\n",
    "    for delimiter in [\"t\", \"i\", \"gg\", \"er\"]:\n",
    "        arr = new_word.split(delimiter)\n",
    "        new_word = \"\".join(arr)\n",
    "\n",
    "    return new_word"
   ]
  }
 ],
 "metadata": {
  "kernelspec": {
   "display_name": "Python 3",
   "language": "python",
   "name": "python3"
  },
  "language_info": {
   "name": "python",
   "version": "3.10.17"
  }
 },
 "nbformat": 4,
 "nbformat_minor": 5
}
